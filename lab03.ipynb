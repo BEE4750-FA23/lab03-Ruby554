{
  "cells": [
    {
      "cell_type": "markdown",
      "id": "a4dbeeed-1482-4055-871b-4d7a2c2a511e",
      "metadata": {},
      "source": [
        "# BEE 4750 Lab 3: Linear Programming with JuMP\n",
        "\n",
        "**Name**:Ruby Pascual   \n",
        "\n",
        "**ID**: 5193485\n",
        "\n",
        "> **Due Date**\n",
        ">\n",
        "> Friday, 10/13/23, 9:00pm\n",
        "\n",
        "## Setup\n",
        "\n",
        "The following code should go at the top of most Julia scripts; it will\n",
        "load the local package environment and install any needed packages. You\n",
        "will see this often and shouldn’t need to touch it."
      ]
    },
    {
      "cell_type": "code",
      "execution_count": 278,
      "id": "e4a7ead8",
      "metadata": {},
      "outputs": [
        {
          "name": "stderr",
          "output_type": "stream",
          "text": [
            "\u001b[32m\u001b[1m  Activating\u001b[22m\u001b[39m project at `~/Downloads/lab03-Ruby554-Fall23`\n"
          ]
        }
      ],
      "source": [
        "import Pkg\n",
        "Pkg.activate(\".\")\n",
        "Pkg.instantiate()"
      ]
    },
    {
      "cell_type": "code",
      "execution_count": 279,
      "id": "bcb91547",
      "metadata": {},
      "outputs": [],
      "source": [
        "using JuMP # optimization modeling syntax\n",
        "using HiGHS # optimization solver\n",
        "using Plots # plotting"
      ]
    },
    {
      "cell_type": "markdown",
      "id": "e7c75237-e4a0-44dd-accc-3ba4b3a0b33e",
      "metadata": {},
      "source": [
        "## Overview\n",
        "\n",
        "In this lab, you will write and solve a resource allocation example\n",
        "using `JuMP.jl`. `JuMP.jl` provides an intuitive syntax for writing,\n",
        "solving, and querying optimization problems.\n",
        "\n",
        "For an example of using `JuMP.jl` to solve linear programs, see [the\n",
        "relevant tutorial on the class\n",
        "website](https://viveks.me/environmental-systems-analysis/tutorials/julia-jump.html).\n",
        "\n",
        "Free free to delete some of the illustrative cells and code blocks in\n",
        "your notebook as you go through and solve the lab problems…this might\n",
        "help reduce some potential confusion while grading about what your\n",
        "answer is."
      ]
    },
    {
      "cell_type": "markdown",
      "id": "b3357076-5bea-4fbb-a560-286b35fd52af",
      "metadata": {},
      "source": [
        "## Introduction\n",
        "\n",
        "Your task is to decide how much lumber to produce to maximize profit\n",
        "from wood sales. You can purchase wood from a managed forest, which\n",
        "consists of spruce (320,000 bf) and fir (720,000 bf). Spruce costs\n",
        "\\$0.12 per bf to purchase and fir costs \\$0.08 per bf.\n",
        "\n",
        "At the lumber mill, wood can be turned into plywood of various grades\n",
        "(see <a href=\"#tbl-inputs\" class=\"quarto-xref\">Table 1</a> for how much\n",
        "wood of each type is required for and the revenue from each grade). Any\n",
        "excess wood is sent to be recycled into particle board. This resource\n",
        "allocation problem is diagrammed in\n",
        "<a href=\"#fig-schematic\" class=\"quarto-xref\">Figure 1</a>.\n",
        "\n",
        "| Plywood Grade | Inputs (bf/bf plywood) | Revenue (\\$/1000 bf) |\n",
        "|:-------------:|:----------------------:|:--------------------:|\n",
        "|       1       |   0.5 (S) + 1.5 (F)    |         400          |\n",
        "|       2       |   1.0 (S) + 2.0 (F)    |         520          |\n",
        "|       3       |   1.5 (S) + 2.0 (F)    |         700          |\n",
        "\n",
        "Table 1: Wood inputs and revenue by plywood grade. S refers to spruce\n",
        "inputs, F fir inputs."
      ]
    },
    {
      "cell_type": "markdown",
      "id": "e64f4869-4c05-4097-9118-15c5583c58a3",
      "metadata": {},
      "source": [
        "<figure id=\"fig-schematic\">\n",
        "<img src=\"attachment:lab03_files/figure-ipynb/mermaid-figure-1.png\" />\n",
        "<figcaption>Figure 1: Flowchat of the resource allocation problem in\n",
        "this lab.</figcaption>\n",
        "</figure>\n",
        "\n",
        "## Problems (10 points)"
      ]
    },
    {
      "cell_type": "markdown",
      "id": "4909da23-bc65-4291-ac3a-b991ffd66163",
      "metadata": {},
      "source": [
        "### Problem 1: Problem Formulation (5 points)\n",
        "\n",
        "In this problem, you will go through the steps of formulating a linear\n",
        "program for this problem."
      ]
    },
    {
      "cell_type": "markdown",
      "id": "2071aef6-e8a9-4285-a5b9-59f65a25b5ac",
      "metadata": {},
      "source": [
        "#### Problem 1.1 (1 point)\n",
        "\n",
        "What are your decision variables? Clearly define your notation,\n",
        "including what variables you are using, what they mean, and what their\n",
        "units are."
      ]
    },
    {
      "cell_type": "markdown",
      "id": "d569d381",
      "metadata": {},
      "source": [
        "My decision variables will be Plywood_1, Plywood_2, and Plywood_3. Each will have units of Bf or board feet.  "
      ]
    },
    {
      "cell_type": "markdown",
      "id": "d314882c-8e58-4177-a740-676248d7106f",
      "metadata": {},
      "source": [
        "#### Problem 1.2 (1 point)\n",
        "\n",
        "Derive your objective function. Support your function with\n",
        "justifications and/or equations as necessary. You will not receive\n",
        "credit just for the function alone."
      ]
    },
    {
      "cell_type": "markdown",
      "id": "e66b299f",
      "metadata": {},
      "source": [
        "My objective function is to maximize our total profit of Spruce_x + Fir_y. We can express this objective using the equation:\n",
        "                                <<Profits= Revenue - Costs>>\n",
        "\n",
        "I will be keeping my function in terms of per bf so I will have to divide my revenues by 1000 to get it in those terms. I write my objective function by then doing revenue - costs. The costs refer to \n",
        "each line of the table for plywood grades multiplied by 0.12 and 0.08 respectively. I simplify my objective function at the end.  \n",
        "\n",
        "max(Plywood_j)   (0.4*Plywood_1)- (0.5*Plywood_1*0.12 + 1.5* Plywood_1*0.08)  \n",
        "        + (0.52*Plywood_2)- (1.0*Plywood_2*0.12 + 2.0* Plywood_2*0.08)  \n",
        "        + (0.70*Plywood)_3)- (1.5* Plywood_3*0.12 + 2.0 *Plywood_3*.08) \n",
        "\n",
        "=\n",
        "\n",
        "The objective function simplifies to the following: \n",
        "\n",
        "max(Plywood_j) 0.22*Plywood_1 + 0.24*Plywood_2 + 0.36* Plywood_3\n"
      ]
    },
    {
      "cell_type": "markdown",
      "id": "9bd0d34a-7aed-44b9-a665-80fcc1deb56b",
      "metadata": {},
      "source": [
        "#### Problem 1.3 (2 point)\n",
        "\n",
        "Derive any needed constraints. Support your function with justifications\n",
        "and/or equations as necessary. You will not receive credit just for the\n",
        "final constraints alone."
      ]
    },
    {
      "cell_type": "markdown",
      "id": "81587f38",
      "metadata": {},
      "source": [
        "Constraints; 320,000+720,000= 1,040,000 (max. lumber)\n",
        "\n",
        "We know that the spruce material is limited by 320,000 units so we need a constraint for that. If we look at the spruce across the different plywood grades, then we can combine this. \n",
        "\n",
        "1) Spruce Constraints:\n",
        "\n",
        "0.5*Plywood_1 + 1.0*Plywood_2 + 1.5*Plywood_3 <= 320,000\n",
        "\n",
        "We know that the fir material is limited by 720,000 units so we also need a constraint for that. If we look at the fir across the different plywood grades, then we can combine this. \n",
        "\n",
        "2) Fir Constraints:\n",
        "\n",
        "1.5*Plywood_1 + 2.0*Plywood_2 + 2.0*Plywood_3 <= 720,000\n",
        "\n",
        "3) Non-negativity Constraint:\n",
        "\n",
        "Plywood_1 >= 0 \n",
        "\n",
        "Plywood_2 >= 0\n",
        "\n",
        "Plywood_3 >= 0 "
      ]
    },
    {
      "cell_type": "markdown",
      "id": "b1a9dab5-6afb-4bf6-ad34-3c8979b4d07a",
      "metadata": {},
      "source": [
        "#### Problem 1.4 (1 point)\n",
        "\n",
        "Put this optimization problem in mathematical programming form. For an\n",
        "example of the syntax for this, see lines 82–91\n",
        "[here](https://github.com/vsrikrish/environmental-systems-analysis/blob/Fall23/tutorials/julia-jump.qmd)."
      ]
    },
    {
      "cell_type": "markdown",
      "id": "261aa23d",
      "metadata": {},
      "source": [
        "In mathematical programming form our constrained optimization problem is given with: \n",
        "\n",
        "\\begin{align}\n",
        "& \\max 0.22* Plywood_1 + 0.24* Plywood_2 + 0.36* Plywood_3 & \\text{Objective function (Profit)}\\\\\n",
        "& \\text{subject to} & \\\\\n",
        "& 0.5*Plywood_1 + 1.0*Plywood_2 + 1.5*Plywood_3 <= 320,000 & \\text{Spruce constraint}\\\\\n",
        "& 1.5*Plywood_1 + 2.0*Plywood_2 + 2.0*Plywood_3 <= 720,000 & \\text{Fir constraint}\\\\\n",
        "& Plywood_1, Plywood_2, Plywood_3 \\geq 0 & \\text{Non-negativity constraints}\n",
        "\\end{align}\n"
      ]
    },
    {
      "cell_type": "markdown",
      "id": "5fb9c116-3b52-46da-87a2-160f3c98676e",
      "metadata": {},
      "source": [
        "### Problem 2: Find the Solution (5 points)"
      ]
    },
    {
      "cell_type": "markdown",
      "id": "c7336df3-bd09-4437-89ad-b9c493528017",
      "metadata": {},
      "source": [
        "#### Problem 2.1 (2 points)\n",
        "\n",
        "Code your linear program using `JuMP`. Feel free to consult [the\n",
        "website’s `JuMP`\n",
        "tutorial](https://viveks.me/environmental-systems-analysis/tutorials/julia-jump.html)\n",
        "for syntax help. The keys:"
      ]
    },
    {
      "cell_type": "markdown",
      "id": "7e6cc359-c7db-4806-a007-e269c7a0bfc9",
      "metadata": {},
      "source": [
        "1.  Initialize your model with a solver; in this case, we’ll use the\n",
        "    `HiGHS` solver, but there are other solvers listed here for\n",
        "    different types of problems, some of which are open and some of\n",
        "    which require a commercial license:\n",
        "    <https://jump.dev/JuMP.jl/stable/installation/#Supported-solvers>:\n",
        "\n",
        "    ``` julia\n",
        "    example_model = Model(HiGHS.Optimizer)\n",
        "    ```\n",
        "\n",
        "2.  Define variables with syntax like\n",
        "\n",
        "    ``` julia\n",
        "    @variable(example_model, 1 >= example_x >= 0)\n",
        "    ```\n",
        "\n",
        "    This will create a variable `example_x` which is constrained to be\n",
        "    between 0 and 1; you can leave off any of the bounds if a variable\n",
        "    is unbounded in a particular direction. You can also add a vector of\n",
        "    variables:\n",
        "\n",
        "    ``` julia\n",
        "    T = 1:3 # define set to index variables\n",
        "    @variable(example_model, 1 >= example_z[t in T] >= 0)\n",
        "    ```\n",
        "\n",
        "    which will create a vector of 3 variables `example_z[1]`, …,\n",
        "    `example_z[3]`, all of which are bounded between 0 and 1.\n",
        "\n",
        "3.  Add an objective with\n",
        "\n",
        "    ``` julia\n",
        "    @objective(example_model, Max, example_x + sum(example_z))\n",
        "    ```\n",
        "\n",
        "    which will add an objective to maximize (replace with `Min` to\n",
        "    minimize).\n",
        "\n",
        "4.  Add constraints:\n",
        "\n",
        "    ``` julia\n",
        "    @constraint(example_model, constraint1, 2example_x + 3*sum(example_z) <= 10)\n",
        "    @constraint(example_model, constraint2, 5example_x - example_z[1] <= 2)\n",
        "    ```\n",
        "\n",
        "    which will name the constraints `constraint1` and `constraint2` (you\n",
        "    should make yours more descriptive about what the constraint\n",
        "    actually is). The value of adding a name is to facilitate later\n",
        "    querying of shadow prices, which we will discuss later. You can also\n",
        "    add a vector of constraints which have similar structure or rely on\n",
        "    different elements of a data vector:\n",
        "\n",
        "    ``` julia\n",
        "    A = [2; 4]\n",
        "    b = [8; 12]\n",
        "    I = 1:2 # set indices for constraint\n",
        "    @constraint(example_model, vector_constraint[i in I], A[i] * sum(example_z) .<= b[i])\n",
        "    ```\n",
        "\n",
        "    You can also define matrices of constraints which depend on two\n",
        "    index sets by generalizing this syntax, e.g.\n",
        "\n",
        "    ``` julia\n",
        "    @constraint(example_model, matrix_constraint[i in I, j in J, ...])\n",
        "    ```\n",
        "\n",
        "    > **Tip**\n",
        "    >\n",
        "    > Specifying higher-dimensional vectors and matrices of variables\n",
        "    > and constraints will be important when we start looking at more\n",
        "    > complex applications, so don’t skip over this! You don’t want to\n",
        "    > manually enter thousands of constraints to ensure hourly\n",
        "    > electricity demand is met…\n",
        "\n",
        "    Finally, you can (and probably should) `print` your model to make\n",
        "    sure that you get something that looks like the equations that you\n",
        "    wrote down (in a notebook, this will be nicely rendered):\n",
        "\n",
        "    ``` julia\n",
        "    print(example_model)\n",
        "    ```\n",
        "\n",
        "    $$ \\begin{aligned}\n",
        "    \\max\\quad & example\\_x + example\\_z_{1} + example\\_z_{2} + example\\_z_{3}\\\\\n",
        "    \\text{Subject to} \\quad & 2 example\\_x + 3 example\\_z_{1} + 3 example\\_z_{2} + 3 example\\_z_{3} \\leq 10\\\\\n",
        "     & 5 example\\_x - example\\_z_{1} \\leq 2\\\\\n",
        "     & 2 example\\_z_{1} + 2 example\\_z_{2} + 2 example\\_z_{3} \\leq 8\\\\\n",
        "     & 4 example\\_z_{1} + 4 example\\_z_{2} + 4 example\\_z_{3} \\leq 12\\\\\n",
        "     & example\\_x \\geq 0\\\\\n",
        "     & example\\_z_{1} \\geq 0\\\\\n",
        "     & example\\_z_{2} \\geq 0\\\\\n",
        "     & example\\_z_{3} \\geq 0\\\\\n",
        "     & example\\_x \\leq 1\\\\\n",
        "     & example\\_z_{1} \\leq 1\\\\\n",
        "     & example\\_z_{2} \\leq 1\\\\\n",
        "     & example\\_z_{3} \\leq 1\\\\\n",
        "    \\end{aligned} $$\n",
        "\n",
        "    > **Define your entire model in one cell**\n",
        "    >\n",
        "    > `JuMP` has great and intuitive syntax, but it doesn’t like\n",
        "    > re-defining variables or constraints once they’ve been set. I\n",
        "    > recommend putting all of your model-definition code (starting from\n",
        "    > `model = Model(...)`) for a particular optimization problem in a\n",
        "    > single notebook cell, so you can re-set up the entire problem with\n",
        "    > a single click when you want to make a change."
      ]
    },
    {
      "cell_type": "code",
      "execution_count": 280,
      "id": "b65317f5",
      "metadata": {},
      "outputs": [
        {
          "data": {
            "text/latex": [
              "$ 0.22 Plywood\\_1 + 0.24 Plywood\\_2 + 0.36 Plywood\\_3 $"
            ],
            "text/plain": [
              "0.22 Plywood_1 + 0.24 Plywood_2 + 0.36 Plywood_3"
            ]
          },
          "metadata": {},
          "output_type": "display_data"
        }
      ],
      "source": [
        "#Put all the model definition code here \n",
        "lab_model= Model(HiGHS.Optimizer)\n",
        "\n",
        "#Define variables, in this case Plywood 1,2, and 3\n",
        "@variable(lab_model, Plywood_1 >= 0)\n",
        "@variable(lab_model, Plywood_2 >= 0)\n",
        "@variable(lab_model, Plywood_3 >= 0)\n",
        "\n",
        "#If we had a free (or unbounded) variable z, we could declare that variable using @variable(model, z)\n",
        "\n",
        "#If we want to see all of the variables associated with a model, we can use the all_variables function to obtain an array.\n",
        "all_variables(lab_model)\n",
        "\n",
        "#Unlike variables, we also need to pass names for each constraint. We'll use time for the time constraint & materials for the materials constraint       \n",
        "@constraint(lab_model, Spruce_Constraint, 0.5*Plywood_1 + 1.0*Plywood_2 + 1.5*Plywood_3 <= 320000) # specify the  spruce constraint\n",
        "@constraint(lab_model, Fir_Constraint, 1.5*Plywood_1 + 2.0*Plywood_2 + 2.0*Plywood_3 <= 720000) # specify the fir constraint\n",
        "@constraint(lab_model, Non_negativity_1, Plywood_1 >= 0)            # specify the non- negativity constraints  \n",
        "@constraint(lab_model, Non_negativity_2, Plywood_2 >= 0)\n",
        "@constraint(lab_model, Non_negativity_3, Plywood_3 >= 0)\n",
        "\n",
        "#We need to specify our objective function to know what we are trying to minimize or maximize over this region\n",
        "@objective(lab_model, Max, 0.22 * Plywood_1 + 0.24 * Plywood_2 + 0.36 * Plywood_3)"
      ]
    },
    {
      "cell_type": "code",
      "execution_count": 281,
      "id": "0d2766e6",
      "metadata": {},
      "outputs": [
        {
          "name": "stdout",
          "output_type": "stream",
          "text": [
            "Max 0.22 Plywood_1 + 0.24 Plywood_2 + 0.36 Plywood_3\n",
            "Subject to\n",
            " Non_negativity_1 : Plywood_1 ≥ 0\n",
            " Non_negativity_2 : Plywood_2 ≥ 0\n",
            " Non_negativity_3 : Plywood_3 ≥ 0\n",
            " Spruce_Constraint : 0.5 Plywood_1 + Plywood_2 + 1.5 Plywood_3 ≤ 320000\n",
            " Fir_Constraint : 1.5 Plywood_1 + 2 Plywood_2 + 2 Plywood_3 ≤ 720000\n",
            " Plywood_1 ≥ 0\n",
            " Plywood_2 ≥ 0\n",
            " Plywood_3 ≥ 0\n"
          ]
        }
      ],
      "source": [
        "#Now print out a formatted version of the lab model\n",
        "print(lab_model)"
      ]
    },
    {
      "cell_type": "markdown",
      "id": "de5ff570-e9ee-40c2-8784-2633d1a4dc0c",
      "metadata": {},
      "source": [
        "#### Problem 2.2 (1 points)\n",
        "\n",
        "Find the solution to your program and find the optimal values of the\n",
        "decision variables. Once you’ve defined your model, you can find the\n",
        "solution with \\`optimize!():"
      ]
    },
    {
      "cell_type": "code",
      "execution_count": 282,
      "id": "5ccbe21b",
      "metadata": {},
      "outputs": [
        {
          "name": "stdout",
          "output_type": "stream",
          "text": [
            "Running HiGHS 1.5.3 [date: 1970-01-01, git hash: 45a127b78]\n",
            "Copyright (c) 2023 HiGHS under MIT licence terms\n",
            "Presolving model\n",
            "2 rows, 3 cols, 6 nonzeros\n",
            "2 rows, 3 cols, 6 nonzeros\n",
            "Presolve : Reductions: rows 2(-3); columns 3(-0); elements 6(-3)\n",
            "Solving the presolved LP\n",
            "Using EKK dual simplex solver - serial\n",
            "  Iteration        Objective     Infeasibilities num(sum)\n",
            "          0    -8.1999884144e-01 Ph1: 2(8.5); Du: 3(0.819999) 0s\n",
            "          2    -1.1200000000e+05 Pr: 0(0) 0s\n",
            "Solving the original LP from the solution after postsolve\n",
            "Model   status      : Optimal\n",
            "Simplex   iterations: 2\n",
            "Objective value     :  1.1200000000e+05\n",
            "HiGHS run time      :          0.00\n"
          ]
        }
      ],
      "source": [
        "optimize!(lab_model)"
      ]
    },
    {
      "cell_type": "markdown",
      "id": "ad29d099",
      "metadata": {},
      "source": [
        "The objective value is 1.12 x10^5"
      ]
    },
    {
      "cell_type": "markdown",
      "id": "addb8efe-09e7-45cf-8e0d-e78a4f8f4397",
      "metadata": {},
      "source": [
        "> **What if I Get An Error?**\n",
        ">\n",
        "> If `optimize!()` throws an error, that’s usually a sign that something\n",
        "> is wrong with the formulation (for example, a variable might not be\n",
        "> bounded or a constraint might not be specified correctly) or a typo in\n",
        "> the model definition. Linear programs should be well behaved!\n",
        "\n",
        "To find the values of variables after optimizing, use `value.()` (the\n",
        "broadcasting ensures this will work for vector-valued variables as\n",
        "well):"
      ]
    },
    {
      "cell_type": "code",
      "execution_count": 283,
      "id": "36b7a4d7",
      "metadata": {},
      "outputs": [
        {
          "data": {
            "text/plain": [
              "352000.00000000006"
            ]
          },
          "metadata": {},
          "output_type": "display_data"
        }
      ],
      "source": [
        "value.(Plywood_1)"
      ]
    },
    {
      "cell_type": "code",
      "execution_count": 284,
      "id": "1fe4b8bb",
      "metadata": {},
      "outputs": [
        {
          "data": {
            "text/plain": [
              "0.0"
            ]
          },
          "metadata": {},
          "output_type": "display_data"
        }
      ],
      "source": [
        "value.(Plywood_2)"
      ]
    },
    {
      "cell_type": "code",
      "execution_count": 285,
      "id": "b0b97e16",
      "metadata": {},
      "outputs": [
        {
          "data": {
            "text/plain": [
              "95999.99999999999"
            ]
          },
          "metadata": {},
          "output_type": "display_data"
        }
      ],
      "source": [
        "value.(Plywood_3)"
      ]
    },
    {
      "cell_type": "markdown",
      "id": "7e141d56-9965-499c-a1d6-9fbc565f3abc",
      "metadata": {},
      "source": [
        "#### Problem 2.3 (1 point)\n",
        "\n",
        "How would your profit change if you could buy 1,000 additional bf of\n",
        "spruce? You can answer this by getting the shadow price of a particular\n",
        "variable with:"
      ]
    },
    {
      "cell_type": "code",
      "execution_count": 286,
      "id": "c969ed7f",
      "metadata": {},
      "outputs": [
        {
          "data": {
            "text/plain": [
              "80.00000000000001"
            ]
          },
          "metadata": {},
          "output_type": "display_data"
        }
      ],
      "source": [
        "shadow_price(Spruce_Constraint)*1000 # this is why we named the constraints when we defined them\n",
        "\n",
        "#$0.08 for 1 unit increase means that for 1,000 additional it would 1,000*.08"
      ]
    },
    {
      "cell_type": "markdown",
      "id": "8b03079e",
      "metadata": {},
      "source": [
        "My profit would change if I could buy 1,000 additional bf of spruce as it would go up by $80 for th 1,000 additional bf of spruce. "
      ]
    },
    {
      "cell_type": "markdown",
      "id": "0f60ecb1-3610-434e-af1f-02b19850827b",
      "metadata": {},
      "source": [
        "#### Problem 2.4 (1 point)\n",
        "\n",
        "Would you prefer to have 2,000 additional bf of spruce or 1,000\n",
        "additional bf of fir?"
      ]
    },
    {
      "cell_type": "code",
      "execution_count": 287,
      "id": "fa2e1d23",
      "metadata": {},
      "outputs": [
        {
          "data": {
            "text/plain": [
              "160.00000000000003"
            ]
          },
          "metadata": {},
          "output_type": "display_data"
        }
      ],
      "source": [
        "#2,000 additional spruce\n",
        " \n",
        "shadow_price(Spruce_Constraint)*2000"
      ]
    },
    {
      "cell_type": "code",
      "execution_count": 288,
      "id": "bea3f9a6",
      "metadata": {},
      "outputs": [
        {
          "data": {
            "text/plain": [
              "120.0"
            ]
          },
          "metadata": {},
          "output_type": "display_data"
        }
      ],
      "source": [
        "#1,000 additional fir \n",
        "\n",
        "shadow_price(Fir_Constraint)*1000"
      ]
    },
    {
      "cell_type": "markdown",
      "id": "a8f03a67",
      "metadata": {},
      "source": [
        "I would prefer to have 2,000 additional bf of Spruce because then the profit would go up by $160 rather than $120 so the higher number gives a higher profit. "
      ]
    },
    {
      "cell_type": "markdown",
      "id": "3931edc3-ebed-40fa-abc1-8611323d2dac",
      "metadata": {},
      "source": [
        "## References\n",
        "\n",
        "Put any consulted sources here, including classmates you worked with/who\n",
        "helped you."
      ]
    },
    {
      "cell_type": "markdown",
      "id": "6d8fca0b",
      "metadata": {},
      "source": [
        "Maya Yu\n",
        "Sinahy Fragoso\n",
        "Ella Bear\n",
        "Grace Duffy "
      ]
    }
  ],
  "metadata": {
    "kernelspec": {
      "display_name": "Julia 1.9.3",
      "language": "julia",
      "name": "julia-1.9"
    },
    "language_info": {
      "file_extension": ".jl",
      "mimetype": "application/julia",
      "name": "julia",
      "version": "1.9.3"
    }
  },
  "nbformat": 4,
  "nbformat_minor": 5
}
